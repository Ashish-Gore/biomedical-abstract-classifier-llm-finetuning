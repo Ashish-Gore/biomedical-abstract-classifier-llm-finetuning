{
  "cells": [
    {
      "cell_type": "markdown",
      "metadata": {},
      "source": [
        "# Research Paper Analysis Pipeline - Demo Notebook\n",
        "\n",
        "This notebook demonstrates the complete pipeline for research paper analysis and classification.\n"
      ]
    },
    {
      "cell_type": "code",
      "execution_count": null,
      "metadata": {},
      "outputs": [],
      "source": [
        "# Import required libraries\n",
        "import sys\n",
        "import os\n",
        "sys.path.append('../src')\n",
        "\n",
        "import pandas as pd\n",
        "import numpy as np\n",
        "import matplotlib.pyplot as plt\n",
        "import seaborn as sns\n",
        "from pathlib import Path\n",
        "\n",
        "# Import our modules\n",
        "from data_preprocessing import AbstractPreprocessor\n",
        "from disease_extraction import DiseaseExtractor\n",
        "from model_training import CancerClassifier\n",
        "from inference import ResearchPaperAnalyzer\n",
        "from evaluation import ModelEvaluator\n"
      ]
    }
  ],
  "metadata": {
    "language_info": {
      "name": "python"
    }
  },
  "nbformat": 4,
  "nbformat_minor": 2
}
